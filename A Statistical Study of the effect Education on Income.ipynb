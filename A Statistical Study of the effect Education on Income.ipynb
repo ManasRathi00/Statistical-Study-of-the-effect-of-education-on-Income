{
 "cells": [
  {
   "cell_type": "markdown",
   "metadata": {},
   "source": [
    "a)\tDetermine what percentage of vehicles will pay the penalty?(1 mark)\n",
    "\n",
    "b) If the limit of allowed load is decreased to 13 tonnes, what percentage of vehicles do not pay the penalty? (2 marks) \n",
    "\n",
    "c) What should be the load limit that atleast 5% of the vehicles will face penalties? (2 marks)\n"
   ]
  },
  {
   "cell_type": "code",
   "execution_count": 84,
   "metadata": {},
   "outputs": [],
   "source": [
    "import numpy as np\n",
    "import pandas as pd\n",
    "import scipy.stats as stats\n",
    "import matplotlib.pyplot as plt\n",
    "import seaborn as sns"
   ]
  },
  {
   "cell_type": "markdown",
   "metadata": {},
   "source": [
    "a) Determine what percentage of vehicles will pay the penalty?(1 mark)"
   ]
  },
  {
   "cell_type": "code",
   "execution_count": 12,
   "metadata": {},
   "outputs": [
    {
     "name": "stdout",
     "output_type": "stream",
     "text": [
      "Percentage that do pay penalty: 10.56\n"
     ]
    }
   ],
   "source": [
    "mean = 12\n",
    "std = 1.2\n",
    "maxx = 13.5\n",
    "z = (maxx - mean) / std\n",
    "print('Percentage that do pay penalty:',round(stats.norm.sf(z) * 100,2))"
   ]
  },
  {
   "cell_type": "markdown",
   "metadata": {},
   "source": [
    "b) If the limit of allowed load is decreased to 13 tonnes, what percentage of vehicles do not pay the penalty? (2 marks)"
   ]
  },
  {
   "cell_type": "code",
   "execution_count": 11,
   "metadata": {},
   "outputs": [
    {
     "name": "stdout",
     "output_type": "stream",
     "text": [
      "Percentage that do not pay penalty: 79.767\n"
     ]
    }
   ],
   "source": [
    "new_max = 13\n",
    "new_z = (new_max - mean) / std\n",
    "print('Percentage that do not pay penalty:', round(stats.norm.cdf(new_z)* 100,3))"
   ]
  },
  {
   "cell_type": "markdown",
   "metadata": {},
   "source": [
    "c) What should be the load limit that atleast 5% of the vehicles will face penalties? (2 marks)"
   ]
  },
  {
   "cell_type": "code",
   "execution_count": 38,
   "metadata": {},
   "outputs": [
    {
     "name": "stdout",
     "output_type": "stream",
     "text": [
      "0.005012004331761333\n",
      "Thus new limit must be close to 15.09\n"
     ]
    }
   ],
   "source": [
    "new = (15.09 - mean) / std\n",
    "print(stats.norm.sf(new))\n",
    "print('Thus new limit must be close to 15.09')"
   ]
  },
  {
   "cell_type": "markdown",
   "metadata": {},
   "source": [
    "<b>A.Frame Null and Alternate Hypothesis ( 1 Mark)</b>"
   ]
  },
  {
   "cell_type": "markdown",
   "metadata": {},
   "source": [
    "Null Hypothesis :  weight lost >= 5\n",
    "\n",
    "Alternate Hypothesis: weight lost < 5"
   ]
  },
  {
   "cell_type": "markdown",
   "metadata": {},
   "source": [
    "<b>B.State which tail test to be performed (1 Mark)</b>"
   ]
  },
  {
   "cell_type": "markdown",
   "metadata": {},
   "source": [
    "Since in this case we are trying to test the Alternate Hypothesis that the weight is less than 5 kg, we will use the left tailed test."
   ]
  },
  {
   "cell_type": "markdown",
   "metadata": {},
   "source": [
    "<b>C.Find the test statistic (2 Mark)</b>"
   ]
  },
  {
   "cell_type": "code",
   "execution_count": 51,
   "metadata": {},
   "outputs": [
    {
     "name": "stdout",
     "output_type": "stream",
     "text": [
      "Test Statistic Z : 7.042138593945121 \n",
      "P-Value: 9.465568994053133e-13\n"
     ]
    }
   ],
   "source": [
    "n = 29\n",
    "sample_m = 6.7\n",
    "pop_m = 5\n",
    "pop_std = 1.3\n",
    "alpha = 0.05\n",
    "z = (sample_m - pop_m)/(pop_std / np.sqrt(n))\n",
    "pval = stats.norm.sf(z)\n",
    "print('Test Statistic Z :', z, '\\nP-Value:', pval)"
   ]
  },
  {
   "cell_type": "markdown",
   "metadata": {},
   "source": [
    "<b>D.Interpret the results (1 Mark)</b>"
   ]
  },
  {
   "cell_type": "code",
   "execution_count": 46,
   "metadata": {},
   "outputs": [
    {
     "name": "stdout",
     "output_type": "stream",
     "text": [
      "We fail to accept the Null. Alternate Accepted\n"
     ]
    }
   ],
   "source": [
    "if pval >=  alpha:\n",
    "    print('We accept the null')\n",
    "else:\n",
    "    print('We fail to accept the Null. Alternate Accepted')"
   ]
  },
  {
   "cell_type": "markdown",
   "metadata": {},
   "source": [
    "Here, since the P-Value is so significantly small, we accept the alternate. With this we can cocnlude that the claim by the company that the people lost atleast 5Kgs is true."
   ]
  },
  {
   "cell_type": "markdown",
   "metadata": {
    "id": "vRxYOr4q-z2s"
   },
   "source": [
    " _________________"
   ]
  },
  {
   "cell_type": "markdown",
   "metadata": {},
   "source": [
    "Null Hypothesis : There is no difference among the group means and temperature does not eeffect the curation of cement.\n",
    "\n",
    "Alternate Hypothesis : There is a significant difference among the group means and there is an effect on temperature on the curation of cement."
   ]
  },
  {
   "cell_type": "markdown",
   "metadata": {},
   "source": [
    "<b> ii) Determine the Statistical Test and give the reason for the selection of the test.</b>"
   ]
  },
  {
   "cell_type": "markdown",
   "metadata": {},
   "source": [
    "In this case, we use the One Way ANOVA Test. This is for a multitude of reasons, they are:\n",
    "           - we need to assess the difference of numerical means and variances of more than two groups. Thus the T-Test                  would be tedious and long process.\n",
    "           - we need to compare only one identity i.e. temperature and not two or more. Thus we use the one way anova. \n",
    "           - Equal variances and normal distribution makes this data suitable for a parametric anova test."
   ]
  },
  {
   "cell_type": "markdown",
   "metadata": {},
   "source": [
    "<b> iii) Find the test statistics and pvalue.</b>"
   ]
  },
  {
   "cell_type": "code",
   "execution_count": 58,
   "metadata": {},
   "outputs": [
    {
     "name": "stdout",
     "output_type": "stream",
     "text": [
      "F-Distribution Test Statistic: 40.910677596019625 \n",
      "P-Value: 1.523419880399115e-09\n"
     ]
    }
   ],
   "source": [
    "small = np.array([12,8,11,12,14,8,9,11,12,11.5,10.5,10.5])\n",
    "medium = np.array([9,7,6,8,4,6,7,7,7,8,8])\n",
    "large = np.array([6,5,5,4,8,7,6,2,4,3,4,5])\n",
    "\n",
    "stat, pval = stats.f_oneway(small,medium,large)\n",
    "print('F-Distribution Test Statistic:', stat, '\\nP-Value:',pval)"
   ]
  },
  {
   "cell_type": "markdown",
   "metadata": {},
   "source": [
    "<b>iv) Interpret the Results</b>"
   ]
  },
  {
   "cell_type": "code",
   "execution_count": 59,
   "metadata": {},
   "outputs": [
    {
     "name": "stdout",
     "output_type": "stream",
     "text": [
      "We accept the Alternate Hypothesis\n"
     ]
    }
   ],
   "source": [
    "if(pval<0.05):\n",
    "    print('We accept the Alternate Hypothesis')"
   ]
  },
  {
   "cell_type": "markdown",
   "metadata": {},
   "source": [
    "Here, since the P-Value is less than 0.05% significance level, we can say that the means of the three groups actually differ. This means that temperature indeed does play a role in the way and speed with which cement is curated."
   ]
  },
  {
   "cell_type": "markdown",
   "metadata": {},
   "source": [
    "<b>v) If strength differs. Find at which temperature strength differs</b>"
   ]
  },
  {
   "cell_type": "code",
   "execution_count": 70,
   "metadata": {},
   "outputs": [
    {
     "name": "stdout",
     "output_type": "stream",
     "text": [
      "Multiple Comparison of Means - Tukey HSD, FWER=0.05 \n",
      "====================================================\n",
      "group1 group2 meandiff p-adj   lower   upper  reject\n",
      "----------------------------------------------------\n",
      "  high    low    5.875  0.001  3.9019  7.8481   True\n",
      "  high medium      1.5 0.1649 -0.4731  3.4731  False\n",
      "   low medium   -4.375  0.001 -6.3481 -2.4019   True\n",
      "----------------------------------------------------\n"
     ]
    }
   ],
   "source": [
    "from statsmodels.stats.multicomp import pairwise_tukeyhsd\n",
    "df= pd.DataFrame({'strength':[12,8,11,12,14,8,9,11,12,11.5,10.5,10.5,\n",
    "                             9,0,7,6,8,4,6,7,7,7,8,8,\n",
    "                             6,5,5,4,8,7,6,2,4,3,4,5],\n",
    "                 'group' : np.repeat(['low','medium','high'], repeats = 12)})\n",
    "tukey = pairwise_tukeyhsd(endog = df['strength'],\n",
    "                         groups = df['group'],\n",
    "                         alpha = 0.05)\n",
    "print(tukey)"
   ]
  },
  {
   "cell_type": "markdown",
   "metadata": {},
   "source": [
    "Here, the p-value for high and medium is at 0.169 where as for the difference of means in comparison of other groups is less than 0.05. This means that except for the difference in means of groups High Temp and Low temp, there is a statistical difference in the means of comparisons of other groups .i.e low and medium , low and high."
   ]
  },
  {
   "cell_type": "markdown",
   "metadata": {
    "id": "y57w4MY_-z2x"
   },
   "source": [
    " _________________"
   ]
  },
  {
   "cell_type": "code",
   "execution_count": 71,
   "metadata": {},
   "outputs": [
    {
     "data": {
      "text/html": [
       "<div>\n",
       "<style scoped>\n",
       "    .dataframe tbody tr th:only-of-type {\n",
       "        vertical-align: middle;\n",
       "    }\n",
       "\n",
       "    .dataframe tbody tr th {\n",
       "        vertical-align: top;\n",
       "    }\n",
       "\n",
       "    .dataframe thead th {\n",
       "        text-align: right;\n",
       "    }\n",
       "</style>\n",
       "<table border=\"1\" class=\"dataframe\">\n",
       "  <thead>\n",
       "    <tr style=\"text-align: right;\">\n",
       "      <th></th>\n",
       "      <th>Student_id</th>\n",
       "      <th>Age</th>\n",
       "      <th>Gender</th>\n",
       "      <th>Education</th>\n",
       "      <th>Experience</th>\n",
       "      <th>Designation</th>\n",
       "      <th>Salary</th>\n",
       "    </tr>\n",
       "  </thead>\n",
       "  <tbody>\n",
       "    <tr>\n",
       "      <th>0</th>\n",
       "      <td>1</td>\n",
       "      <td>22</td>\n",
       "      <td>M</td>\n",
       "      <td>Degree</td>\n",
       "      <td>1</td>\n",
       "      <td>Associate</td>\n",
       "      <td>28000</td>\n",
       "    </tr>\n",
       "    <tr>\n",
       "      <th>1</th>\n",
       "      <td>2</td>\n",
       "      <td>23</td>\n",
       "      <td>F</td>\n",
       "      <td>Degree</td>\n",
       "      <td>2</td>\n",
       "      <td>Associate</td>\n",
       "      <td>21000</td>\n",
       "    </tr>\n",
       "    <tr>\n",
       "      <th>2</th>\n",
       "      <td>3</td>\n",
       "      <td>24</td>\n",
       "      <td>F</td>\n",
       "      <td>Masters</td>\n",
       "      <td>3</td>\n",
       "      <td>Associate</td>\n",
       "      <td>22000</td>\n",
       "    </tr>\n",
       "    <tr>\n",
       "      <th>3</th>\n",
       "      <td>4</td>\n",
       "      <td>25</td>\n",
       "      <td>F</td>\n",
       "      <td>Masters</td>\n",
       "      <td>4</td>\n",
       "      <td>Associate</td>\n",
       "      <td>23000</td>\n",
       "    </tr>\n",
       "    <tr>\n",
       "      <th>4</th>\n",
       "      <td>5</td>\n",
       "      <td>32</td>\n",
       "      <td>M</td>\n",
       "      <td>Degree</td>\n",
       "      <td>11</td>\n",
       "      <td>Associate</td>\n",
       "      <td>21000</td>\n",
       "    </tr>\n",
       "  </tbody>\n",
       "</table>\n",
       "</div>"
      ],
      "text/plain": [
       "   Student_id  Age Gender Education  Experience Designation  Salary\n",
       "0           1   22      M    Degree           1   Associate   28000\n",
       "1           2   23      F    Degree           2   Associate   21000\n",
       "2           3   24      F   Masters           3   Associate   22000\n",
       "3           4   25      F   Masters           4   Associate   23000\n",
       "4           5   32      M    Degree          11   Associate   21000"
      ]
     },
     "execution_count": 71,
     "metadata": {},
     "output_type": "execute_result"
    }
   ],
   "source": [
    "import pandas as pd\n",
    "df = pd.read_csv('data_set.csv')\n",
    "df.head()"
   ]
  },
  {
   "cell_type": "markdown",
   "metadata": {},
   "source": [
    "<b> 1.Does Age has any effect on the salary of an individual </b>"
   ]
  },
  {
   "cell_type": "code",
   "execution_count": 80,
   "metadata": {},
   "outputs": [
    {
     "name": "stdout",
     "output_type": "stream",
     "text": [
      "Normality Test of Age Column: ShapiroResult(statistic=0.915911078453064, pvalue=5.037566097598756e-07)\n",
      "Normality Test of Salary Column: ShapiroResult(statistic=0.8977665305137634, pvalue=4.906928552372847e-08)\n"
     ]
    }
   ],
   "source": [
    "print('Normality Test of Age Column:',stats.shapiro(df.Age))\n",
    "print('Normality Test of Salary Column:',stats.shapiro(df.Salary))"
   ]
  },
  {
   "cell_type": "markdown",
   "metadata": {},
   "source": [
    "Since both columns are continuous in nature and do not have a normal districution, we use the non-parametric correlation test which is the Spearmen's R Correlation Test."
   ]
  },
  {
   "cell_type": "code",
   "execution_count": 83,
   "metadata": {},
   "outputs": [
    {
     "name": "stdout",
     "output_type": "stream",
     "text": [
      "The correlation between the Age and the Salary Column is: 0.32216735492786996\n"
     ]
    }
   ],
   "source": [
    "correl_val,pval = stats.spearmanr(df.Age,df.Salary,axis = 1)\n",
    "print('The correlation between the Age and the Salary Column is:', correl_val)"
   ]
  },
  {
   "cell_type": "markdown",
   "metadata": {},
   "source": [
    "These two columns have a mild positive correlation and their correlation co-efficient is 0.322. This means that when one rises or falls by 1 unit the other will rise or fall 0.322 units respectively and vice versa.\n",
    "\n",
    "This mild positive correlation is not very significant."
   ]
  },
  {
   "cell_type": "code",
   "execution_count": 85,
   "metadata": {},
   "outputs": [
    {
     "data": {
      "text/plain": [
       "<matplotlib.collections.PathCollection at 0x7f8b76fc0d30>"
      ]
     },
     "execution_count": 85,
     "metadata": {},
     "output_type": "execute_result"
    },
    {
     "data": {
      "image/png": "[encoded data removed]",
      "text/plain": [
       "<Figure size 432x288 with 1 Axes>"
      ]
     },
     "metadata": {
      "needs_background": "light"
     },
     "output_type": "display_data"
    }
   ],
   "source": [
    "plt.scatter(df.Age,df.Salary)"
   ]
  },
  {
   "cell_type": "markdown",
   "metadata": {},
   "source": [
    "<b> 2.Does Education has any effect on the salary of an individual </b> "
   ]
  },
  {
   "cell_type": "code",
   "execution_count": 88,
   "metadata": {},
   "outputs": [],
   "source": [
    "degree = df[df.Education == 'Degree'].Salary\n",
    "masters = df[df.Education == 'Masters'].Salary\n",
    "phd = df[df.Education == 'PHD'].Salary"
   ]
  },
  {
   "cell_type": "code",
   "execution_count": 89,
   "metadata": {},
   "outputs": [
    {
     "name": "stdout",
     "output_type": "stream",
     "text": [
      "Degree Data Normality: 7.884184014983475e-06 \n",
      "Masters Data Normality: 0.00041357750887982547 \n",
      "PHD Data Normality: 0.13604678213596344\n"
     ]
    }
   ],
   "source": [
    "#Normality Test for all Three\n",
    "# Null : They are normal\n",
    "# Alternate they are not\n",
    "stat1,pval1 = stats.shapiro(degree)\n",
    "stat2,pval2 = stats.shapiro(masters)\n",
    "stat3,pval3 = stats.shapiro(phd)\n",
    "print('Degree Data Normality:', pval1,\n",
    "     '\\nMasters Data Normality:', pval2,\n",
    "     '\\nPHD Data Normality:',pval3)"
   ]
  },
  {
   "cell_type": "markdown",
   "metadata": {},
   "source": [
    "Here, only the PHD Data is normal, we thus go for a non-parametric ANOVA Test which is the Kruskal Wallis H Test. \n",
    "This tests the null hypothesis that the median of the three groups is similar .i.e drawn from the same population."
   ]
  },
  {
   "cell_type": "code",
   "execution_count": 93,
   "metadata": {},
   "outputs": [
    {
     "name": "stdout",
     "output_type": "stream",
     "text": [
      "We fail to accept the null. Alternate Accepted \n",
      "P Value: 0.007945431290086086\n"
     ]
    }
   ],
   "source": [
    "stat,pval = stats.kruskal(degree,masters,phd)\n",
    "if(pval < 0.05):\n",
    "    print('We fail to accept the null. Alternate Accepted','\\nP Value:',pval)"
   ]
  },
  {
   "cell_type": "markdown",
   "metadata": {},
   "source": [
    "Since, the Pvalue is less than 0.05, we reject the null that would imply there is no difference in the salaries of the differenctly educated and we find that the education does have and impact on the salary of a person. "
   ]
  },
  {
   "cell_type": "markdown",
   "metadata": {},
   "source": [
    "<b> 3.Does Designation has any effect on the salary of an individual </b>"
   ]
  },
  {
   "cell_type": "code",
   "execution_count": 104,
   "metadata": {},
   "outputs": [],
   "source": [
    "roles = df.Designation.value_counts().index\n",
    "asc = df[df.Designation == roles[0]].Salary\n",
    "man = df[df.Designation == roles[1]].Salary\n",
    "sen = df[df.Designation == roles[2]].Salary\n",
    "pro = df[df.Designation == roles[3]].Salary\n",
    "wha = [asc,man,sen,pro]"
   ]
  },
  {
   "cell_type": "code",
   "execution_count": 98,
   "metadata": {},
   "outputs": [
    {
     "name": "stdout",
     "output_type": "stream",
     "text": [
      "Normality Test for All\n",
      "Normality for Associate:  ShapiroResult(statistic=0.8455919027328491, pvalue=2.2635426830674987e-06)\n",
      "Normality for Manager:  ShapiroResult(statistic=0.8873010277748108, pvalue=0.0021545065101236105)\n",
      "Normality for Senior Manager:  ShapiroResult(statistic=0.9216136932373047, pvalue=0.07214382290840149)\n",
      "Normality for Assicate Professor:  ShapiroResult(statistic=0.9171408414840698, pvalue=0.17420418560504913)\n"
     ]
    }
   ],
   "source": [
    "print('Normality Test for All')\n",
    "print('Normality for Associate: ', stats.shapiro(asc))\n",
    "print('Normality for Manager: ', stats.shapiro(man))\n",
    "print('Normality for Senior Manager: ', stats.shapiro(sen))\n",
    "print('Normality for Assicate Professor: ', stats.shapiro(pro))"
   ]
  },
  {
   "cell_type": "markdown",
   "metadata": {},
   "source": [
    "Since only 2 out of the 4 are normal, we the the Kruskal Wallis H Test, which is the non-parametric ANOVA Test."
   ]
  },
  {
   "cell_type": "code",
   "execution_count": 101,
   "metadata": {},
   "outputs": [
    {
     "name": "stdout",
     "output_type": "stream",
     "text": [
      "We reject the null and accept the alternate \n",
      "P Value: 0.006231201352471838\n"
     ]
    }
   ],
   "source": [
    "stat,pval = stats.kruskal(asc,man,sen,pro)\n",
    "if(pval<0.05):\n",
    "    print('We reject the null and accept the alternate','\\nP Value:',pval)"
   ]
  },
  {
   "cell_type": "markdown",
   "metadata": {},
   "source": [
    "Here, we can conclude that Designation Infact does effect Salary."
   ]
  },
  {
   "cell_type": "code",
   "execution_count": 127,
   "metadata": {},
   "outputs": [],
   "source": [
    "import scikit_posthocs as sp\n",
    "sp.posthoc_dunn(wha,p_adjust = ' bonferroni')"
   ]
  },
  {
   "cell_type": "markdown",
   "metadata": {},
   "source": [
    "In the Above cell I tried doing a post-hoc test for the Kruskal Wallis ANOVA Test but could not as Jupyter Notebooks is not able to import scikit_posthocs. "
   ]
  },
  {
   "cell_type": "markdown",
   "metadata": {},
   "source": [
    "<b> 4.Does salary effected by gender of an individual. </b>"
   ]
  },
  {
   "cell_type": "code",
   "execution_count": 113,
   "metadata": {},
   "outputs": [],
   "source": [
    "male = df[df.Gender == 'M'].Salary\n",
    "female = df[df.Gender == 'F'].Salary"
   ]
  },
  {
   "cell_type": "code",
   "execution_count": 114,
   "metadata": {},
   "outputs": [
    {
     "name": "stdout",
     "output_type": "stream",
     "text": [
      "Normality of male Data:  ShapiroResult(statistic=0.894479513168335, pvalue=0.00010809693776536733)\n",
      "Normality of female Data:  ShapiroResult(statistic=0.8925539255142212, pvalue=1.2230276297486853e-05)\n"
     ]
    }
   ],
   "source": [
    "#normailty Test\n",
    "print('Normality of male Data: ', stats.shapiro(male))\n",
    "print('Normality of female Data: ', stats.shapiro(female))"
   ]
  },
  {
   "cell_type": "markdown",
   "metadata": {},
   "source": [
    "Both Data sets are not normal. We then use the non parametric Kruskal Wallis H Test since the data is <b>not of equal lenght</b>. We would have otherwise used the non-parametric T-Test which is the Wilcoxon test."
   ]
  },
  {
   "cell_type": "code",
   "execution_count": 120,
   "metadata": {},
   "outputs": [
    {
     "name": "stdout",
     "output_type": "stream",
     "text": [
      "We accept the null \n",
      "P Value: 0.5334032230979215\n"
     ]
    }
   ],
   "source": [
    "stat,pval = stats.kruskal(male,female)\n",
    "if(pval>0.05):\n",
    "    print('We accept the null','\\nP Value:',pval)"
   ]
  },
  {
   "cell_type": "markdown",
   "metadata": {},
   "source": [
    "Since the medians of the two groups are similar and we accept the null, we can conclude that the Gender of an Emplpyee does not effect their salary. This has been proven by the Kruskal Test"
   ]
  },
  {
   "cell_type": "markdown",
   "metadata": {},
   "source": [
    "<b> 5.Does salary effected by experience of an individual.</b>"
   ]
  },
  {
   "cell_type": "code",
   "execution_count": 125,
   "metadata": {},
   "outputs": [
    {
     "name": "stdout",
     "output_type": "stream",
     "text": [
      "Normality Test for Experience Column: ShapiroResult(statistic=0.9159107208251953, pvalue=5.037321670897654e-07)\n",
      "Normality Test for Salary Column: ShapiroResult(statistic=0.8977665305137634, pvalue=4.906928552372847e-08)\n"
     ]
    }
   ],
   "source": [
    "print('Normality Test for Experience Column:' , stats.shapiro(df.Experience))\n",
    "print('Normality Test for Salary Column:' , stats.shapiro(df.Salary))"
   ]
  },
  {
   "cell_type": "markdown",
   "metadata": {},
   "source": [
    "Here, as visible, both the columns are not normal. We therefore have to go for a non-parametric test.\n",
    "Since, both the columns are continuous in nature we go for the Spearman's R Correlation Test."
   ]
  },
  {
   "cell_type": "code",
   "execution_count": 126,
   "metadata": {},
   "outputs": [
    {
     "name": "stdout",
     "output_type": "stream",
     "text": [
      "Spearman's Coefficient of Correlation is: 0.32216735492786996\n"
     ]
    }
   ],
   "source": [
    "stat,pval = stats.spearmanr(df.Experience,df.Salary)\n",
    "print(\"Spearman's Coefficient of Correlation is:\", stat)"
   ]
  },
  {
   "cell_type": "markdown",
   "metadata": {},
   "source": [
    "These two columns have a mild positive correlation and their correlation co-efficient is 0.322. This means that when one rises or falls by 1 unit the other will rise or fall 0.322 units respectively and vice versa.\n",
    "\n",
    "This mild positive correlation is not very significant."
   ]
  },
  {
   "cell_type": "code",
   "execution_count": 128,
   "metadata": {},
   "outputs": [
    {
     "data": {
      "text/plain": [
       "<matplotlib.collections.PathCollection at 0x7f8b64b635f8>"
      ]
     },
     "execution_count": 128,
     "metadata": {},
     "output_type": "execute_result"
    },
    {
     "data": {
      "image/png": "[encoded data removed]",
      "text/plain": [
       "<Figure size 432x288 with 1 Axes>"
      ]
     },
     "metadata": {
      "needs_background": "light"
     },
     "output_type": "display_data"
    }
   ],
   "source": [
    "plt.scatter(df.Experience,df.Salary)"
   ]
  }
 ],
 "metadata": {
  "kernelspec": {
   "display_name": "Python 3 (ipykernel)",
   "language": "python",
   "name": "python3"
  },
  "language_info": {
   "codemirror_mode": {
    "name": "ipython",
    "version": 3
   },
   "file_extension": ".py",
   "mimetype": "text/x-python",
   "name": "python",
   "nbconvert_exporter": "python",
   "pygments_lexer": "ipython3",
   "version": "3.9.12"
  }
 },
 "nbformat": 4,
 "nbformat_minor": 4
}
